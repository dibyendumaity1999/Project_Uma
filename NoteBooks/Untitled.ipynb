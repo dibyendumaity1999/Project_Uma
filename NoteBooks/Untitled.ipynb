{
 "cells": [
  {
   "cell_type": "code",
   "execution_count": null,
   "id": "df2f4f3b",
   "metadata": {},
   "outputs": [],
   "source": [
    "import MDAnalysis as mda\n",
    "import matplotlib.pyplot as plt\n",
    "from math import floor\n",
    "import numpy as np\n",
    "from numba import jit\n",
    "import boo\n",
    "from MDAnalysis.analysis import rdf"
   ]
  },
  {
   "cell_type": "code",
   "execution_count": null,
   "id": "7bb3ae99",
   "metadata": {},
   "outputs": [],
   "source": []
  },
  {
   "cell_type": "code",
   "execution_count": null,
   "id": "064233e7",
   "metadata": {},
   "outputs": [],
   "source": [
    "## Periodic Neighbours..\n",
    "@jit(nopython=True) #numba to speed up our brute force approach\n",
    "def periodic_neighbours(pos, maxdist, L):\n",
    "    maxdistsq = maxdist**2\n",
    "    rL = 1./L\n",
    "    bonds = [np.int64(x) for x in range(0)]\n",
    "    dists = [np.int64(x) for x in range(0)]\n",
    "    #connection = np.empty((1000,1),dtype=object)\n",
    "    count = 0\n",
    "    for i in range(len(pos)-1):\n",
    "        for j in range(i+1, len(pos)):\n",
    "            distsq = 0\n",
    "            for d in range(pos.shape[1]):\n",
    "                diff = pos[i,d] - pos[j,d]\n",
    "                diff -= L[d] * floor(diff * (1/L[d]) + 0.5)\n",
    "                distsq += diff*diff\n",
    "            if distsq < maxdistsq:\n",
    "            \n",
    "                bonds.append(i)\n",
    "                bonds.append(j)\n",
    "                count += 1\n",
    "                #dists.append(distsq)\n",
    "    return np.array(bonds).reshape((count,2))"
   ]
  },
  {
   "cell_type": "code",
   "execution_count": null,
   "id": "019aab9a",
   "metadata": {},
   "outputs": [],
   "source": [
    "def get_Qs(pos, bonds):\n",
    "    maxbondlength = 2.78 * 1.4\n",
    "    #tree = KDTree(pos,boxsize = bs)\n",
    "    #bonds = tree.query_pairs(maxbondlength, output_type='ndarray')\n",
    "    #bonds = periodic_neighbours(pos, maxbondlength, bs)\n",
    "    q6m = boo.bonds2qlm(pos, bonds, l=6)\n",
    "    q4m = boo.bonds2qlm(pos, bonds, l=4)\n",
    "    q8m = boo.bonds2qlm(pos, bonds, l=8)\n",
    "    q8 = boo.ql(q8m)\n",
    "    q6 = boo.ql(q6m)\n",
    "    q4 = boo.ql(q4m)\n",
    "    return q8, q6, q4\n"
   ]
  },
  {
   "cell_type": "code",
   "execution_count": null,
   "id": "ec0ed513",
   "metadata": {},
   "outputs": [],
   "source": [
    "universe_cs4 = mda.Universe(\"../GenIce_Structures/CS4.gro\")"
   ]
  },
  {
   "cell_type": "code",
   "execution_count": null,
   "id": "66b6b2b5",
   "metadata": {},
   "outputs": [],
   "source": [
    "pos = universe_cs4.select_atoms(\"name OW\").positions\n",
    "bs = universe_cs4.dimensions[:3]"
   ]
  },
  {
   "cell_type": "code",
   "execution_count": null,
   "id": "2e869c5b",
   "metadata": {},
   "outputs": [],
   "source": []
  },
  {
   "cell_type": "code",
   "execution_count": null,
   "id": "ffa3b41c",
   "metadata": {},
   "outputs": [],
   "source": [
    "q8_cs4, q6_cs4, q4_cs4 = get_Qs(pos, bs)"
   ]
  },
  {
   "cell_type": "code",
   "execution_count": null,
   "id": "69e7e136",
   "metadata": {},
   "outputs": [],
   "source": [
    "sns.kdeplot(q4_cs4)\n",
    "sns.kdeplot(q6_cs4)\n",
    "sns.kdeplot(q8_cs4)"
   ]
  },
  {
   "cell_type": "code",
   "execution_count": null,
   "id": "91d0b325",
   "metadata": {},
   "outputs": [],
   "source": [
    "plt.scatter(q6_cs4, q8_cs4)"
   ]
  },
  {
   "cell_type": "code",
   "execution_count": null,
   "id": "b4b99641",
   "metadata": {},
   "outputs": [],
   "source": [
    "######################### cs4 ##################################\n",
    "universe_cs4 = mda.Universe(\"../GenIce_Structures/CS4.gro\")\n",
    "pos = universe_cs4.select_atoms(\"name OW\").positions\n",
    "bs = universe_cs4.dimensions[:3]\n",
    "q8_cs4, q6_cs4, q4_cs4 = get_Qs(pos, bs)"
   ]
  },
  {
   "cell_type": "code",
   "execution_count": null,
   "id": "ca805e7d",
   "metadata": {},
   "outputs": [],
   "source": [
    "######################### cs2 ##################################\n",
    "universe_cs2 = mda.Universe(\"../GenIce_Structures/CS2.gro\")\n",
    "pos = universe_cs2.select_atoms(\"name OW\").positions\n",
    "bs = universe_cs2.dimensions[:3]\n",
    "q8_cs2, q6_cs2, q4_cs2 = get_Qs(pos, bs)"
   ]
  },
  {
   "cell_type": "code",
   "execution_count": null,
   "id": "69ffb08f",
   "metadata": {},
   "outputs": [],
   "source": [
    "################### ice0 ######################################\n",
    "universe_ice0 = mda.Universe(\"../GenIce_Structures/ice0.gro\")\n",
    "pos = universe_ice0.select_atoms(\"name OW\").positions\n",
    "bs = universe_ice0.dimensions[:3]\n",
    "q8_ice0, q6_ice0, q4_ice0 = get_Qs(pos, bs)"
   ]
  },
  {
   "cell_type": "code",
   "execution_count": null,
   "id": "60a060e5",
   "metadata": {},
   "outputs": [],
   "source": [
    "######################### ice11 ##################################\n",
    "q4_cs4universe_ice11 = mda.Universe(\"../GenIce_Structures/ice11.gro\")\n",
    "pos = universe_ice11.select_atoms(\"name OW\").positions\n",
    "bs = universe_ice11.dimensions[:3]\n",
    "q8_ice11, q6_ice11, q4_ice11 = get_Qs(pos, bs)"
   ]
  },
  {
   "cell_type": "code",
   "execution_count": null,
   "id": "1742ed06",
   "metadata": {},
   "outputs": [],
   "source": [
    "######################### ice12 ##################################\n",
    "universe_ice12 = mda.Universe(\"../GenIce_Structures/ice12.gro\")\n",
    "pos = universe_ice12.select_atoms(\"name OW\").positions\n",
    "bs = universe_ice12.dimensions[:3]\n",
    "q8_ice12, q6_ice12, q4_ice12 = get_Qs(pos, bs)"
   ]
  },
  {
   "cell_type": "code",
   "execution_count": null,
   "id": "9ec6977d",
   "metadata": {},
   "outputs": [],
   "source": [
    "######################### ice13 ##################################\n",
    "universe_ice13 = mda.Universe(\"../GenIce_Structures/ice13.gro\")\n",
    "pos = universe_ice13.select_atoms(\"name OW\").positions\n",
    "bs = universe_ice13.dimensions[:3]\n",
    "q8_ice13, q6_ice13, q4_ice13 = get_Qs(pos, bs)"
   ]
  },
  {
   "cell_type": "code",
   "execution_count": null,
   "id": "22c14265",
   "metadata": {},
   "outputs": [],
   "source": [
    "######################### ice1c ##################################\n",
    "universe_ice1c = mda.Universe(\"../GenIce_Structures/ice1c.gro\")\n",
    "pos = universe_ice1c.select_atoms(\"name OW\").positions\n",
    "bs = universe_ice1c.dimensions[:3]\n",
    "q8_ice1c, q6_ice1c, q4_ice1c = get_Qs(pos, bs)"
   ]
  },
  {
   "cell_type": "code",
   "execution_count": null,
   "id": "659a922e",
   "metadata": {},
   "outputs": [],
   "source": [
    "######################### ice1h ##################################\n",
    "universe_ice1h = mda.Universe(\"../GenIce_Structures/ice1h.gro\")\n",
    "pos = universe_ice1h.select_atoms(\"name OW\").positions\n",
    "bs = universe_ice1h.dimensions[:3]\n",
    "q8_ice1h, q6_ice1h, q4_ice1h = get_Qs(pos, bs)"
   ]
  },
  {
   "cell_type": "code",
   "execution_count": null,
   "id": "73d07454",
   "metadata": {},
   "outputs": [],
   "source": [
    "######################### ice17 ##################################\n",
    "universe_ice17 = mda.Universe(\"../GenIce_Structures/ice17.gro\")\n",
    "pos = universe_ice17.select_atoms(\"name OW\").positions\n",
    "bs = universe_ice17.dimensions[:3]\n",
    "q8_ice17, q6_ice17, q4_ice17 = get_Qs(pos, bs)"
   ]
  },
  {
   "cell_type": "code",
   "execution_count": null,
   "id": "1ddaa310",
   "metadata": {},
   "outputs": [],
   "source": [
    "######################### ice2 ##################################\n",
    "universe_ice2 = mda.Universe(\"../GenIce_Structures/ice2.gro\")\n",
    "pos = universe_ice2.select_atoms(\"name OW\").positions\n",
    "bs = universe_ice2.dimensions[:3]\n",
    "q8_ice2, q6_ice2, q4_ice2 = get_Qs(pos, bs)"
   ]
  },
  {
   "cell_type": "code",
   "execution_count": null,
   "id": "e5f82144",
   "metadata": {},
   "outputs": [],
   "source": [
    "plt.scatter(q6_ice2, q8_ice2)"
   ]
  },
  {
   "cell_type": "code",
   "execution_count": null,
   "id": "329d6239",
   "metadata": {},
   "outputs": [],
   "source": [
    "import seaborn as sns"
   ]
  },
  {
   "cell_type": "code",
   "execution_count": null,
   "id": "00339b21",
   "metadata": {},
   "outputs": [],
   "source": [
    "fig, ax = plt.subplots()\n",
    "\n",
    "#ax.scatter(q4_ice0, q6_ice0)\n",
    "#ax.scatter(q4_ice11, q6_ice11)\n",
    "plt.scatter(q6_cs4, q8_cs4)\n",
    "plt.scatter(q6_ice0, q8_ice0)\n",
    "plt.scatter(q6_ice11, q8_ice11)\n",
    "#ax.set_xlim([0,1])\n",
    "#ax.set_ylim([0,1])"
   ]
  },
  {
   "cell_type": "code",
   "execution_count": null,
   "id": "667a1503",
   "metadata": {},
   "outputs": [],
   "source": [
    "sns.kdeplot(q4_ice0, q6_ice0)"
   ]
  },
  {
   "cell_type": "code",
   "execution_count": null,
   "id": "72cfd2ca",
   "metadata": {},
   "outputs": [],
   "source": [
    "import sys \n",
    "import os"
   ]
  },
  {
   "cell_type": "code",
   "execution_count": null,
   "id": "e30f6d54",
   "metadata": {},
   "outputs": [],
   "source": []
  },
  {
   "cell_type": "code",
   "execution_count": null,
   "id": "efb4f975",
   "metadata": {},
   "outputs": [],
   "source": [
    "sys.path.append('/home/dibya/Dibyendu/Project_Uma/NoteBooks/mda_custom/nsgrid')"
   ]
  },
  {
   "cell_type": "code",
   "execution_count": null,
   "id": "0e17bd9b",
   "metadata": {},
   "outputs": [],
   "source": [
    "import nsgrid_rsd as nsgrid"
   ]
  },
  {
   "cell_type": "code",
   "execution_count": null,
   "id": "c5f6a6ce",
   "metadata": {},
   "outputs": [],
   "source": [
    "nsgrid.FastNS()"
   ]
  },
  {
   "cell_type": "code",
   "execution_count": null,
   "id": "f8a6db7d",
   "metadata": {},
   "outputs": [],
   "source": [
    "maxbondlength = 2.78 * 1.4"
   ]
  },
  {
   "cell_type": "code",
   "execution_count": null,
   "id": "f14aa0c4",
   "metadata": {},
   "outputs": [],
   "source": [
    "nlist = nsgrid.FastNS(maxbondlength,pos,universe_cs4.dimensions).search(pos)"
   ]
  },
  {
   "cell_type": "code",
   "execution_count": null,
   "id": "28fbbf8e",
   "metadata": {},
   "outputs": [],
   "source": [
    "nlist.get_indices()[0]"
   ]
  },
  {
   "cell_type": "code",
   "execution_count": null,
   "id": "aa411ee0",
   "metadata": {},
   "outputs": [],
   "source": [
    "ndxs = nlist.get_indices()\n",
    "dxs = nlist.get_dx()\n",
    "dists = nlist.get_distances()\n"
   ]
  },
  {
   "cell_type": "code",
   "execution_count": null,
   "id": "72acf23a",
   "metadata": {},
   "outputs": [],
   "source": [
    "for i in range(len(pos)):\n",
    "    np_dxs = np.asarray(dxs[i]).reshape(-1,3)\n",
    "    sort = np.argsort(dists[i])\n",
    "    # Remove the (0,0,0) atom\n",
    "    vals = np_dxs[sort][1:]\n",
    "    if np.linalg.norm(vals[0]) == 0.0:\n",
    "        print(vals)\n",
    "        print(files_gro[fcount])\n",
    "        print(ts.frame)\n",
    "        print(sel[i])\n",
    "    nneigh = vals.shape[0]\n"
   ]
  },
  {
   "cell_type": "code",
   "execution_count": null,
   "id": "6d813032",
   "metadata": {},
   "outputs": [],
   "source": [
    "maxbondlength"
   ]
  },
  {
   "cell_type": "code",
   "execution_count": null,
   "id": "e967a741",
   "metadata": {},
   "outputs": [],
   "source": [
    "import MDAnalysis\n",
    "from MDAnalysis.lib.nsgrid import FastNS\n",
    "\n",
    "u = MDAnalysis.Universe(\"../GenIce_Structures/ice0.gro\")\n",
    "\n",
    "max_cutoff = 5\n",
    "configuration = u.select_atoms(\"name OW\").positions\n",
    "reference = u.select_atoms(\"name OW\").positions\n",
    "box = u.trajectory[0].dimensions\n",
    "\n",
    "gridsearch = FastNS(max_cutoff, configuration, box=box)\n",
    "results = gridsearch.search(reference)\n",
    "pairs = results.get_pairs()\n"
   ]
  },
  {
   "cell_type": "code",
   "execution_count": null,
   "id": "80d8eaa4",
   "metadata": {},
   "outputs": [],
   "source": [
    "#pairs[:,0][i] "
   ]
  },
  {
   "cell_type": "code",
   "execution_count": null,
   "id": "1320f483",
   "metadata": {},
   "outputs": [],
   "source": [
    "def filter_bonds(pairs):\n",
    "    filtered_bonds = []\n",
    "    for i in range(len(pairs)):\n",
    "\n",
    "        if pairs[i][0] == pairs[i][1]:\n",
    "            #print(pairs[i])\n",
    "            pass\n",
    "        else:\n",
    "            filtered_bonds.append(pairs[i])\n",
    "    return np.array(filtered_bonds)"
   ]
  },
  {
   "cell_type": "code",
   "execution_count": null,
   "id": "a27a794b",
   "metadata": {},
   "outputs": [],
   "source": [
    "filtered_bonds = filter_bonds(pairs)"
   ]
  },
  {
   "cell_type": "code",
   "execution_count": null,
   "id": "84789c4e",
   "metadata": {},
   "outputs": [],
   "source": []
  },
  {
   "cell_type": "code",
   "execution_count": null,
   "id": "991cea56",
   "metadata": {},
   "outputs": [],
   "source": [
    "q8, q6, q4 = get_Qs(configuration, filtered_bonds)"
   ]
  },
  {
   "cell_type": "code",
   "execution_count": null,
   "id": "bec5a3e7",
   "metadata": {},
   "outputs": [],
   "source": [
    "plt.scatter(q6, q4)"
   ]
  },
  {
   "cell_type": "code",
   "execution_count": null,
   "id": "c5c3a42b",
   "metadata": {},
   "outputs": [],
   "source": [
    "fcc = freud.data.UnitCell.fcc()\n",
    "fcc_system = fcc.generate_system(5)\n",
    "ql = freud.order.Steinhardt(12)\n",
    "ql_fcc = ql.compute(fcc_system, neighbors={\"num_neighbors\": 12}).particle_order\n",
    "mean_fcc = np.mean(ql_fcc)\n",
    "print(\n",
    "    \"The Q{} values computed for fcc are {:.3f} +/- {:.3e}\".format(\n",
    "        12, mean_fcc, np.std(ql_fcc)\n",
    "    )\n",
    ")\n"
   ]
  },
  {
   "cell_type": "code",
   "execution_count": null,
   "id": "26b94c13",
   "metadata": {},
   "outputs": [],
   "source": [
    "import freud"
   ]
  },
  {
   "cell_type": "code",
   "execution_count": null,
   "id": "e2e1d7aa",
   "metadata": {},
   "outputs": [],
   "source": [
    "fcc_system[1]"
   ]
  },
  {
   "cell_type": "code",
   "execution_count": null,
   "id": "ed458982",
   "metadata": {},
   "outputs": [],
   "source": [
    "freud.box.Box.from_matrix(u.triclinic_dimensions)"
   ]
  },
  {
   "cell_type": "code",
   "execution_count": null,
   "id": "eddc4818",
   "metadata": {},
   "outputs": [],
   "source": [
    "u.dimensions"
   ]
  },
  {
   "cell_type": "code",
   "execution_count": null,
   "id": "5a1cb70b",
   "metadata": {},
   "outputs": [],
   "source": [
    "dir(freud.box.Box)"
   ]
  },
  {
   "cell_type": "code",
   "execution_count": null,
   "id": "9fbde288",
   "metadata": {},
   "outputs": [],
   "source": [
    "u = mda.Universe(\"../GenIce_Structures/ice0/ice0.gro\")\n",
    "def getFreud_ws(u):\n",
    "    box = freud.box.Box.from_box(u.dimensions)\n",
    "    data = u.select_atoms(\"name OW\").positions\n",
    "    system=(box, data)\n",
    "    ql4 = freud.order.Steinhardt(4, wl = True, wl_normalize=True)\n",
    "    ql4_ice = ql4.compute(system, neighbors={\"num_neighbors\": 12}).particle_order\n",
    "    ql6 = freud.order.Steinhardt(6, wl = True, wl_normalize=True)\n",
    "    ql6_ice = ql6.compute(system, neighbors={\"num_neighbors\": 12}).particle_order\n",
    "    ql8 = freud.order.Steinhardt(8, wl = True, wl_normalize=True)\n",
    "    ql8_ice = ql8.compute(system, neighbors={\"num_neighbors\": 12}).particle_order\n",
    "    return ql4_ice, ql6_ice, ql8_ice"
   ]
  },
  {
   "cell_type": "code",
   "execution_count": null,
   "id": "ac05d8fd",
   "metadata": {},
   "outputs": [],
   "source": [
    "u = mda.Universe(\"../GenIce_Structures/ice0/ice0.gro\")\n",
    "def getFreud_qs(u):\n",
    "    box = freud.box.Box.from_box(u.dimensions)\n",
    "    data = u.select_atoms(\"name OW\").positions\n",
    "    system=(box, data)\n",
    "    ql4 = freud.order.Steinhardt(4)\n",
    "    ql4_ice = ql4.compute(system, neighbors={\"num_neighbors\": 12}).particle_order\n",
    "    ql6 = freud.order.Steinhardt(6)\n",
    "    ql6_ice = ql6.compute(system, neighbors={\"num_neighbors\": 12}).particle_order\n",
    "    ql8 = freud.order.Steinhardt(8)\n",
    "    ql8_ice = ql8.compute(system, neighbors={\"num_neighbors\": 12}).particle_order\n",
    "    return ql4_ice, ql6_ice, ql8_ice"
   ]
  },
  {
   "cell_type": "code",
   "execution_count": null,
   "id": "2c3cfbca",
   "metadata": {},
   "outputs": [],
   "source": [
    "#u = mda.Universe(\"../GenIce_Structures/ice1h/ice1h.gro\")\n",
    "#w4_ice1h, w6_ice1h, w8_ice1h = getFreud_ws(u)\n",
    "#q4_ice1h, q6_ice1h, q8_ice1h = getFreud_qs(u)"
   ]
  },
  {
   "cell_type": "code",
   "execution_count": null,
   "id": "60297ab7",
   "metadata": {},
   "outputs": [],
   "source": [
    "#u = mda.Universe(\"../GenIce_Structures/ice1c.gro\")\n",
    "#w4_ice1c, w6_ice1c, w8_ice1c = getFreud_ws(u)\n",
    "#q4_ice1c, q6_ice1c, q8_ice1c = getFreud_qs(u)"
   ]
  },
  {
   "cell_type": "code",
   "execution_count": null,
   "id": "87628d3b",
   "metadata": {},
   "outputs": [],
   "source": [
    "u = mda.Universe(\"../GenIce_Structures/ice11/ice11.gro\")\n",
    "w4_ice11, w6_ice11, w8_ice11 = getFreud_ws(u)\n",
    "q4_ice11, q6_ice11, q8_ice11 = getFreud_qs(u)"
   ]
  },
  {
   "cell_type": "code",
   "execution_count": null,
   "id": "dccb04e4",
   "metadata": {},
   "outputs": [],
   "source": [
    "u = mda.Universe(\"../GenIce_Structures/ice12/ice12.gro\")\n",
    "w4_ice12, w6_ice12, w8_ice12 = getFreud_ws(u)\n",
    "q4_ice12, q6_ice12, q8_ice12 = getFreud_qs(u)"
   ]
  },
  {
   "cell_type": "code",
   "execution_count": null,
   "id": "0b6b48bc",
   "metadata": {},
   "outputs": [],
   "source": [
    "u = mda.Universe(\"../GenIce_Structures/ice13/ice13.gro\")\n",
    "w4_ice13, w6_ice13, w8_ice13 = getFreud_ws(u)\n",
    "q4_ice13, q6_ice13, q8_ice13 = getFreud_qs(u)"
   ]
  },
  {
   "cell_type": "code",
   "execution_count": null,
   "id": "9cd81c82",
   "metadata": {},
   "outputs": [],
   "source": [
    "u = mda.Universe(\"../GenIce_Structures/ice2/ice2.gro\")\n",
    "w4_ice2, w6_ice2, w8_ice2 = getFreud_ws(u)\n",
    "q4_ice2, q6_ice2, q8_ice2 = getFreud_qs(u)"
   ]
  },
  {
   "cell_type": "code",
   "execution_count": null,
   "id": "d0a45c31",
   "metadata": {},
   "outputs": [],
   "source": [
    "u = mda.Universe(\"../GenIce_Structures/ice3/ice3.gro\")\n",
    "w4_ice3, w6_ice3, w8_ice3 = getFreud_ws(u)\n",
    "q4_ice3, q6_ice3, q8_ice3 = getFreud_qs(u)"
   ]
  },
  {
   "cell_type": "code",
   "execution_count": null,
   "id": "24bc8c4e",
   "metadata": {},
   "outputs": [],
   "source": [
    "u = mda.Universe(\"../GenIce_Structures/ice4/ice4.gro\")\n",
    "w4_ice4, w6_ice4, w8_ice4 = getFreud_ws(u)\n",
    "q4_ice4, q6_ice4, q8_ice4 = getFreud_qs(u)"
   ]
  },
  {
   "cell_type": "code",
   "execution_count": null,
   "id": "4c39379e",
   "metadata": {},
   "outputs": [],
   "source": [
    "u = mda.Universe(\"../GenIce_Structures/ice5/ice5.gro\")\n",
    "w4_ice5, w6_ice5, w8_ice5 = getFreud_ws(u)\n",
    "q4_ice5, q6_ice5, q8_ice5 = getFreud_qs(u)"
   ]
  },
  {
   "cell_type": "code",
   "execution_count": null,
   "id": "20e9528d",
   "metadata": {},
   "outputs": [],
   "source": [
    "u = mda.Universe(\"../GenIce_Structures/ice6/ice6.gro\")\n",
    "w4_ice6, w6_ice6, w8_ice6 = getFreud_ws(u)\n",
    "q4_ice6, q6_ice6, q8_ice6 = getFreud_qs(u)"
   ]
  },
  {
   "cell_type": "code",
   "execution_count": null,
   "id": "49462bdf",
   "metadata": {},
   "outputs": [],
   "source": [
    "u = mda.Universe(\"../GenIce_Structures/ice7/ice7.gro\")\n",
    "w4_ice7, w6_ice7, w8_ice7 = getFreud_ws(u)\n",
    "q4_ice7, q6_ice7, q8_ice7 = getFreud_qs(u)"
   ]
  },
  {
   "cell_type": "code",
   "execution_count": null,
   "id": "706c950e",
   "metadata": {},
   "outputs": [],
   "source": [
    "u = mda.Universe(\"../GenIce_Structures/ice9/ice9.gro\")\n",
    "w4_ice8, w6_ice8, w8_ice8 = getFreud_ws(u)\n",
    "q4_ice8, q6_ice8, q8_ice8 = getFreud_qs(u)"
   ]
  },
  {
   "cell_type": "code",
   "execution_count": null,
   "id": "d49edc12",
   "metadata": {},
   "outputs": [],
   "source": [
    "import seaborn as sns"
   ]
  },
  {
   "cell_type": "code",
   "execution_count": null,
   "id": "a76e525b",
   "metadata": {},
   "outputs": [],
   "source": [
    "sns.kdeplot(q8_ice11, label = \"q8\")\n",
    "sns.kdeplot(q6_ice11, label = \"q6\")\n",
    "sns.kdeplot(q4_ice11, label = \"q4\")\n",
    "plt.legend()"
   ]
  },
  {
   "cell_type": "code",
   "execution_count": null,
   "id": "03195be6",
   "metadata": {},
   "outputs": [],
   "source": [
    "plt.scatter(q8_ice11, q4_ice11*q6_ice11)\n",
    "plt.scatter(q8_ice12, q4_ice12*q6_ice12)\n",
    "plt.scatter(q8_ice13, q4_ice13*q6_ice13)\n",
    "#plt.scatter(q4_ice1c, q8_ice1c)\n",
    "#plt.scatter(q4_ice11, q8_ice11)"
   ]
  },
  {
   "cell_type": "code",
   "execution_count": null,
   "id": "e8a321bc",
   "metadata": {},
   "outputs": [],
   "source": [
    "#plt.scatter(q6_ice2, q8_ice2, label = \"ice2\")\n",
    "#plt.scatter(q6_ice3, q8_ice3, label = \"ice3\")\n",
    "#plt.scatter(q4_ice4*q6_ice4, q8_ice4, label = \"ice4\")\n",
    "#plt.scatter(q6_ice5, q8_ice5, label = \"ice5\")\n",
    "#plt.scatter(q6_ice6, q8_ice6, label = \"ice6\")\n",
    "#plt.scatter(q6_ice7, q8_ice7, label = \"ice7\")\n",
    "plt.scatter(q4_ice8*q6_ice8, q8_ice8, label = \"ice8\")\n",
    "plt.legend()"
   ]
  },
  {
   "cell_type": "code",
   "execution_count": null,
   "id": "4bbe1c77",
   "metadata": {},
   "outputs": [],
   "source": [
    "len(q4_ice8)"
   ]
  },
  {
   "cell_type": "code",
   "execution_count": null,
   "id": "a8ca2624",
   "metadata": {},
   "outputs": [],
   "source": [
    "F4_ice0 = np.genfromtxt(\"/home/dibya/Dibyendu/Project_Uma/GenIce_Structures/F4_ice0.xvg\", comments = \"#\")[:,0]\n",
    "F4_ice2 = np.genfromtxt(\"/home/dibya/Dibyendu/Project_Uma/GenIce_Structures/F4_ice2.xvg\", comments = \"#\")[:,0]\n",
    "F4_ice3 = np.genfromtxt(\"/home/dibya/Dibyendu/Project_Uma/GenIce_Structures/F4_ice3.xvg\", comments = \"#\")[:,0]\n",
    "F4_ice4 = np.genfromtxt(\"/home/dibya/Dibyendu/Project_Uma/GenIce_Structures/F4_ice4.xvg\", comments = \"#\")[:,0]\n",
    "F4_ice5 = np.genfromtxt(\"/home/dibya/Dibyendu/Project_Uma/GenIce_Structures/F4_ice5.xvg\", comments = \"#\")[:,0]\n",
    "F4_ice6 = np.genfromtxt(\"/home/dibya/Dibyendu/Project_Uma/GenIce_Structures/F4_ice6.xvg\", comments = \"#\")[:,0]\n",
    "F4_ice7 = np.genfromtxt(\"/home/dibya/Dibyendu/Project_Uma/GenIce_Structures/F4_ice7.xvg\", comments = \"#\")[:,0]\n",
    "F4_ice9 = np.genfromtxt(\"/home/dibya/Dibyendu/Project_Uma/GenIce_Structures/F4_ice9.xvg\", comments = \"#\")[:,0]\n",
    "F4_ice11 = np.genfromtxt(\"/home/dibya/Dibyendu/Project_Uma/GenIce_Structures/F4_ice11.xvg\", comments = \"#\")[:,0]\n",
    "F4_ice12 = np.genfromtxt(\"/home/dibya/Dibyendu/Project_Uma/GenIce_Structures/F4_ice12.xvg\", comments = \"#\")[:,0]\n",
    "F4_ice13 = np.genfromtxt(\"/home/dibya/Dibyendu/Project_Uma/GenIce_Structures/F4_ice13.xvg\", comments = \"#\")[:,0]"
   ]
  },
  {
   "cell_type": "code",
   "execution_count": null,
   "id": "c49c83b4",
   "metadata": {},
   "outputs": [],
   "source": [
    "sns.kdeplot(F4_ice0)\n",
    "sns.kdeplot(F4_ice2)\n",
    "sns.kdeplot(F4_ice3)\n",
    "sns.kdeplot(F4_ice4)\n",
    "sns.kdeplot(F4_ice5)\n",
    "sns.kdeplot(F4_ice6)\n",
    "sns.kdeplot(F4_ice7)\n",
    "sns.kdeplot(F4_ice9)\n",
    "sns.kdeplot(F4_ice11)\n",
    "sns.kdeplot(F4_ice12)\n",
    "sns.kdeplot(F4_ice13)"
   ]
  },
  {
   "cell_type": "code",
   "execution_count": null,
   "id": "7379838f",
   "metadata": {},
   "outputs": [],
   "source": []
  }
 ],
 "metadata": {
  "kernelspec": {
   "display_name": "Python 3 (ipykernel)",
   "language": "python",
   "name": "python3"
  },
  "language_info": {
   "codemirror_mode": {
    "name": "ipython",
    "version": 3
   },
   "file_extension": ".py",
   "mimetype": "text/x-python",
   "name": "python",
   "nbconvert_exporter": "python",
   "pygments_lexer": "ipython3",
   "version": "3.10.4"
  }
 },
 "nbformat": 4,
 "nbformat_minor": 5
}
